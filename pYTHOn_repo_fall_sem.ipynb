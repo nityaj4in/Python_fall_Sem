{
  "nbformat": 4,
  "nbformat_minor": 0,
  "metadata": {
    "colab": {
      "provenance": [],
      "authorship_tag": "ABX9TyPLEweFIaVIROs3XxH5e1KS",
      "include_colab_link": true
    },
    "kernelspec": {
      "name": "python3",
      "display_name": "Python 3"
    },
    "language_info": {
      "name": "python"
    }
  },
  "cells": [
    {
      "cell_type": "markdown",
      "metadata": {
        "id": "view-in-github",
        "colab_type": "text"
      },
      "source": [
        "<a href=\"https://colab.research.google.com/github/nityaj4in/Python_fall_Sem/blob/main/pYTHOn_repo_fall_sem.ipynb\" target=\"_parent\"><img src=\"https://colab.research.google.com/assets/colab-badge.svg\" alt=\"Open In Colab\"/></a>"
      ]
    },
    {
      "cell_type": "code",
      "source": [
        "#Python prog to check whether the written number is palindrome or not \n",
        "number = int(input(\"Enter any number \"))\n",
        "reverse = 0\n",
        "o = number\n",
        "\n",
        "while number>0:\n",
        "    d = number%10\n",
        "    reverse = reverse*10+d\n",
        "    number = number//10\n",
        "    \n",
        "if(o==reverse):\n",
        " print('number is palindrome')\n",
        "else:\n",
        " print('number is not palindrome')"
      ],
      "metadata": {
        "colab": {
          "base_uri": "https://localhost:8080/"
        },
        "id": "pYSP1jhMpTqZ",
        "outputId": "1aeab915-8e78-4062-fa37-2d2e0d6bab29"
      },
      "execution_count": null,
      "outputs": [
        {
          "output_type": "stream",
          "name": "stdout",
          "text": [
            "Enter any number 787\n",
            "number is palindrome\n"
          ]
        }
      ]
    },
    {
      "cell_type": "code",
      "source": [
        "#Python prog to find maximum number in a list\n",
        "def max_num_in_list( list ):\n",
        "    max = list[ 0 ]\n",
        "    for a in list:\n",
        "        if a > max:\n",
        "            max = a\n",
        "    return max\n",
        "print(max_num_in_list([4,10,-5,22]))"
      ],
      "metadata": {
        "colab": {
          "base_uri": "https://localhost:8080/"
        },
        "id": "I3RtkGg0H2oO",
        "outputId": "230b9610-f409-4542-bf70-6482d341a873"
      },
      "execution_count": null,
      "outputs": [
        {
          "output_type": "stream",
          "name": "stdout",
          "text": [
            "22\n"
          ]
        }
      ]
    },
    {
      "cell_type": "code",
      "source": [
        "#Python program to find the second largest number in a list\n",
        "list_val = [20, 30, 40, 25, 10]  \n",
        "list_val.sort()  \n",
        "print(\"The second largest element of the list is:\", list_val[-2])  \n"
      ],
      "metadata": {
        "colab": {
          "base_uri": "https://localhost:8080/"
        },
        "id": "FfGIfC4fJseD",
        "outputId": "ca29089e-72c0-46d0-cec4-95d91aa8b851"
      },
      "execution_count": null,
      "outputs": [
        {
          "output_type": "stream",
          "name": "stdout",
          "text": [
            "The second largest element of the list is: 30\n"
          ]
        }
      ]
    },
    {
      "cell_type": "code",
      "source": [
        "a =[]\n",
        "n = int(input('Enter number of elements'))\n",
        "for i in range(1,n+1):\n",
        "  b = int(input('Enter a element'))\n",
        "  a.append(b)\n",
        "even=[]\n",
        "odd=[]\n",
        "for j in a:\n",
        "  if(j%2==0):\n",
        "   even.append(j)\n",
        "  else:\n",
        "    odd.append(j)\n",
        "print(\"The even list\",even)\n",
        "print(\"The odd list\",odd)"
      ],
      "metadata": {
        "colab": {
          "base_uri": "https://localhost:8080/"
        },
        "id": "SOTkLrH1MHaA",
        "outputId": "fa7fa1c0-84a4-4121-9ed1-b26f52a87e83"
      },
      "execution_count": null,
      "outputs": [
        {
          "output_type": "stream",
          "name": "stdout",
          "text": [
            "Enter number of elements5\n",
            "Enter a element6\n",
            "Enter a element56\n",
            "Enter a element56\n",
            "Enter a element3\n",
            "Enter a element12\n",
            "The even list [6, 56, 56, 12]\n",
            "The odd list [3]\n"
          ]
        }
      ]
    },
    {
      "cell_type": "code",
      "source": [
        "#Python program to merge two lists and sort it\n",
        "a = []\n",
        "c = []\n",
        "n1= int(input('Enter number of elements: '))\n",
        "for i in range(1,n1+1):\n",
        "  b = int(input('Enter a element '))\n",
        "  a.append(b)\n",
        "n2 = int(input('Enter number of elements: '))\n",
        "for i in range(1,n2+1):\n",
        "    d = int(input('Enter a element '))\n",
        "    c.append(d)\n",
        "new = a + c\n",
        "new.sort()\n",
        "print('Sorted list is: ',new)\n"
      ],
      "metadata": {
        "colab": {
          "base_uri": "https://localhost:8080/"
        },
        "id": "YiWpxKL3jMkr",
        "outputId": "59986702-cab2-4162-a904-a71cdef99cba"
      },
      "execution_count": null,
      "outputs": [
        {
          "output_type": "stream",
          "name": "stdout",
          "text": [
            "Enter number of elements: 3\n",
            "Enter a element 56\n",
            "Enter a element 67\n",
            "Enter a element -21\n",
            "Enter number of elements: 4\n",
            "Enter a element 90\n",
            "Enter a element 100\n",
            "Enter a element 899\n",
            "Enter a element -3345\n",
            "Sorted list is:  [-3345, -21, 56, 67, 90, 100, 899]\n"
          ]
        }
      ]
    },
    {
      "cell_type": "code",
      "source": [
        "#Python program to sort the list according to the second element in sublist\n",
        "a = [['A',34],['B',21],['c',26]]\n",
        "for i in range(0,len(a)):\n",
        "  for j in range(0,len(a)-i-1):\n",
        "    if(a[j][1]>a[j+1][1]):\n",
        "      temp = a[j]\n",
        "      a[j]= a[j+1]\n",
        "      a[j+1]=temp\n",
        "\n",
        "print(a)"
      ],
      "metadata": {
        "colab": {
          "base_uri": "https://localhost:8080/"
        },
        "id": "4FZAj02PlQXO",
        "outputId": "1f06935b-44f6-4a5d-b854-10fa6c996b36"
      },
      "execution_count": null,
      "outputs": [
        {
          "output_type": "stream",
          "name": "stdout",
          "text": [
            "[['B', 21], ['c', 26], ['A', 34]]\n"
          ]
        }
      ]
    },
    {
      "cell_type": "code",
      "source": [
        "#Python prog to find the second largest number in a list using bubble sort\n",
        "a =[]\n",
        "n = int(input('Enter number of elements'))\n",
        "for i in range(1,n+1):\n",
        "  b = int(input('Enter a element'))\n",
        "  a.append(b)\n",
        "for i in range(0,len(a)):\n",
        "  for j in range(0,len(a)-i-1):\n",
        "    if(a[j]>a[j+1]):\n",
        "     temp = a[j]\n",
        "     a[j]= a[j+1]\n",
        "     a[j+1]=temp\n",
        "print('Second largest number is: ',a[n-2])\n",
        "     "
      ],
      "metadata": {
        "colab": {
          "base_uri": "https://localhost:8080/"
        },
        "id": "bhCzqLoomTro",
        "outputId": "61edd746-428e-4f43-b53d-9edbfa9b452d"
      },
      "execution_count": null,
      "outputs": [
        {
          "output_type": "stream",
          "name": "stdout",
          "text": [
            "Enter number of elements4\n",
            "Enter a element23\n",
            "Enter a element34\n",
            "Enter a element67\n",
            "Enter a element0\n",
            "Second largest number is:  34\n"
          ]
        }
      ]
    },
    {
      "cell_type": "code",
      "source": [
        "#Python prog to sort a list according to the length of the elements\n",
        "a =[]\n",
        "n = int(input('Enter number of elements:'))\n",
        "for i in range(1,n+1):\n",
        "  b = input(\"Enter elements\")\n",
        "  a.append(b)\n",
        "a.sort(key=len)\n",
        "print(a)"
      ],
      "metadata": {
        "id": "MyMESG2pNQq6",
        "colab": {
          "base_uri": "https://localhost:8080/"
        },
        "outputId": "6c062c52-6ae8-41df-d7ed-823f0c0863f9"
      },
      "execution_count": null,
      "outputs": [
        {
          "output_type": "stream",
          "name": "stdout",
          "text": [
            "Enter number of elements:4\n",
            "Enter elementsMy\n",
            "Enter elementsname \n",
            "Enter elementsis\n",
            "Enter elementsnitya\n",
            "['My', 'is', 'name ', 'nitya']\n"
          ]
        }
      ]
    },
    {
      "cell_type": "code",
      "source": [
        "#Python prog to find the union of two lists\n",
        "l1=[]\n",
        "num1=int(input('Enter size of list 1:'))\n",
        "for n in range(num1):\n",
        "  numbers1=int(input('Enter any number:'))\n",
        "  l1.append(numbers1)\n",
        "l2=[]\n",
        "num2=int(input('Input size of list 2'))\n",
        "for n in range(num2):\n",
        "  numbers2=int(input('Enter any number:'))\n",
        "  l2.append(numbers2)\n",
        "union = list(set().union(l1,l2))\n",
        "print('The Union of two lists is:',union)"
      ],
      "metadata": {
        "colab": {
          "base_uri": "https://localhost:8080/"
        },
        "id": "KYEVUYE8pTDJ",
        "outputId": "b5bf6ff8-49d6-486c-f9a6-b9188df56d47"
      },
      "execution_count": null,
      "outputs": [
        {
          "output_type": "stream",
          "name": "stdout",
          "text": [
            "Enter size of list 1:4\n",
            "Enter any number:20\n",
            "Enter any number:40\n",
            "Enter any number:30\n",
            "Enter any number:60\n",
            "Input size of list 24\n",
            "Enter any number:10\n",
            "Enter any number:20\n",
            "Enter any number:50\n",
            "Enter any number:40\n",
            "The Union of two lists is: [40, 10, 50, 20, 60, 30]\n"
          ]
        }
      ]
    },
    {
      "cell_type": "code",
      "source": [
        "#Python prog to find the intersection of two lists\n",
        "\n",
        "def intersection(a,b):\n",
        " return list(set(a)&set(b))\n",
        "\n",
        "def main():\n",
        "  alist=[]\n",
        "  blist=[]\n",
        "  n1=int(input('Enter number of elements for list1: '))\n",
        "  n2 = int(input('Enter numbber of elements for list2: '))\n",
        "  print(\"For List1: \")\n",
        "  for x in range(0,n1):\n",
        "   element=int(input(\"Enter elements\"+str(x+1)+\":\"))\n",
        "   alist.append(element)\n",
        "\n",
        "  print(\"For List2: \")\n",
        "  for x in range(0,n2):\n",
        "   element=int(input(\"Enter elements\"+str(x+1)+\":\"))\n",
        "   blist.append(element)\n",
        "  print(\"The intersection is:\")\n",
        "  print(intersection(alist,blist))\n",
        "main()"
      ],
      "metadata": {
        "colab": {
          "base_uri": "https://localhost:8080/"
        },
        "id": "L-LSE55nsvQc",
        "outputId": "8b2a5c29-f002-4c37-8812-460de78e75f2"
      },
      "execution_count": null,
      "outputs": [
        {
          "output_type": "stream",
          "name": "stdout",
          "text": [
            "Enter number of elements for list1: 2\n",
            "Enter numbber of elements for list2: 3\n",
            "For List1: \n",
            "Enter elements1:-12\n",
            "Enter elements2:23\n",
            "For List2: \n",
            "Enter elements1:90\n",
            "Enter elements2:23\n",
            "Enter elements3:-12\n",
            "The intersection is:\n",
            "[-12, 23]\n"
          ]
        }
      ]
    },
    {
      "cell_type": "code",
      "source": [
        "#Python prog to print all odd indexed elements of a list\n",
        "\n",
        "arr = []\n",
        "print(\"Enter 10 numbers: \")\n",
        "for i in range(10):\n",
        "  arr.insert(i,int(input()))\n",
        "\n",
        "print(\"\\nNumbers at Odd Positions: \")\n",
        "for i in range(10):\n",
        "  if i%2!=0:\n",
        "   print(arr[i])"
      ],
      "metadata": {
        "colab": {
          "base_uri": "https://localhost:8080/"
        },
        "id": "UfMz5BqwwJZc",
        "outputId": "dd47dfba-134a-441a-f00e-e698c842f02e"
      },
      "execution_count": null,
      "outputs": [
        {
          "output_type": "stream",
          "name": "stdout",
          "text": [
            "Enter 10 numbers: \n",
            "1\n",
            "2\n",
            "3\n",
            "4\n",
            "5\n",
            "6\n",
            "7\n",
            "8\n",
            "9\n",
            "10\n",
            "\n",
            "Numbers at Odd Positions: \n",
            "2\n",
            "4\n",
            "6\n",
            "8\n",
            "10\n"
          ]
        }
      ]
    },
    {
      "cell_type": "code",
      "source": [
        "#Python prog to find frequency of each digit in a given integer\n",
        "num = int(input('Enter any number'))\n",
        "print('Digit\\tFrequency')\n",
        "for i in range(0,10):\n",
        " c = 0;\n",
        " temp = num;\n",
        " while temp>0:\n",
        "  d = temp%10\n",
        "  if d ==i:\n",
        "    c+=1\n",
        "  temp = temp//10;\n",
        " if c>0:\n",
        "    print(i,\"\\t\",c)"
      ],
      "metadata": {
        "colab": {
          "base_uri": "https://localhost:8080/"
        },
        "id": "2F68IiXzpeiq",
        "outputId": "3c22026b-81dd-45b0-b90d-82b4c0ba40ae"
      },
      "execution_count": null,
      "outputs": [
        {
          "output_type": "stream",
          "name": "stdout",
          "text": [
            "Enter any number454674352654\n",
            "Digit\tFrequency\n",
            "2 \t 1\n",
            "3 \t 1\n",
            "4 \t 4\n",
            "5 \t 3\n",
            "6 \t 2\n",
            "7 \t 1\n"
          ]
        }
      ]
    },
    {
      "cell_type": "code",
      "execution_count": null,
      "metadata": {
        "id": "dPaBKdnl0Z3H"
      },
      "outputs": [],
      "source": [
        "print(\"hello world\")"
      ]
    },
    {
      "cell_type": "code",
      "source": [
        "#Python prog to find all factors of a number\n",
        "num=int(input('Enter a number'))\n",
        "for i in range(1,num+1):\n",
        " if (num%i==0):\n",
        "    print(i)"
      ],
      "metadata": {
        "colab": {
          "base_uri": "https://localhost:8080/"
        },
        "id": "Ng77q3XEqILF",
        "outputId": "94d50c3a-2297-4db5-9052-baa5f82d371a"
      },
      "execution_count": null,
      "outputs": [
        {
          "output_type": "stream",
          "name": "stdout",
          "text": [
            "Enter a number786\n",
            "1\n",
            "2\n",
            "3\n",
            "6\n",
            "131\n",
            "262\n",
            "393\n",
            "786\n"
          ]
        }
      ]
    },
    {
      "cell_type": "code",
      "source": [
        "#Python prog to print all prime  nos b/w 1-n\n",
        "n =int(input('Enter any number'))\n",
        "c=0\n",
        "for i in range(1,n+1):\n",
        "    if(n%i==0):\n",
        "        c+=1\n",
        "if c==2:\n",
        " print('number is prime')\n",
        "else:\n",
        " print('number is not prime')"
      ],
      "metadata": {
        "colab": {
          "base_uri": "https://localhost:8080/"
        },
        "id": "l7AQkCg7qiNB",
        "outputId": "10e00ef2-cb3f-455d-d6a9-23623945698a"
      },
      "execution_count": null,
      "outputs": [
        {
          "output_type": "stream",
          "name": "stdout",
          "text": [
            "Enter any number67\n",
            "number is prime\n"
          ]
        }
      ]
    },
    {
      "cell_type": "code",
      "source": [
        "#Python prog to print fibonacci\n",
        "n = int(input('How many terms?'))\n",
        "\n",
        "n1,n2=0,1\n",
        "count=0\n",
        "\n",
        "if n<=0:\n",
        "    print('Please enter a positive integer')\n",
        "elif n ==1:\n",
        "    print(n1)\n",
        "else:\n",
        "    print('Fibonacci sequence')\n",
        "    while(count<n):\n",
        "        print(n1)\n",
        "        nth = n1+n2\n",
        "        n1=n2\n",
        "        n2=nth\n",
        "        count+=1"
      ],
      "metadata": {
        "colab": {
          "base_uri": "https://localhost:8080/"
        },
        "id": "f-WKepQvqvbr",
        "outputId": "6122839a-4ddb-4790-caba-3a06b4084f31"
      },
      "execution_count": null,
      "outputs": [
        {
          "output_type": "stream",
          "name": "stdout",
          "text": [
            "How many terms?8\n",
            "Fibonacci sequence\n",
            "0\n",
            "1\n",
            "1\n",
            "2\n",
            "3\n",
            "5\n",
            "8\n",
            "13\n"
          ]
        }
      ]
    },
    {
      "cell_type": "code",
      "source": [
        "t = (\"w\",3,'r',\"e\",\"s\",\"o\",\"u\",\"r\",\"c\",\"e\")\n",
        "print(t)\n",
        "i = t[3]\n",
        "print(\"4th element from tuple: \",i)\n",
        "j=t[-4]\n",
        "print(\"4th element from the last of the tuple: \",j)"
      ],
      "metadata": {
        "colab": {
          "base_uri": "https://localhost:8080/"
        },
        "id": "xmUj0PhUn5XD",
        "outputId": "da41f048-9a2d-4629-9f8c-884ec6097c6c"
      },
      "execution_count": null,
      "outputs": [
        {
          "output_type": "stream",
          "name": "stdout",
          "text": [
            "('w', 3, 'r', 'e', 's', 'o', 'u', 'r', 'c', 'e')\n",
            "4th element from tuple:  e\n",
            "4th element from the last of the tuple:  u\n"
          ]
        }
      ]
    },
    {
      "cell_type": "code",
      "source": [
        "tuplex = 2,4,5,6,2,3,4,4,7\n",
        "print(tuplex)\n",
        "count= tuplex.count(4)\n",
        "print(count)"
      ],
      "metadata": {
        "colab": {
          "base_uri": "https://localhost:8080/"
        },
        "id": "h6qsrFfqo7k2",
        "outputId": "059b7d73-3eeb-4e4a-fcbd-d4744e9a622a"
      },
      "execution_count": null,
      "outputs": [
        {
          "output_type": "stream",
          "name": "stdout",
          "text": [
            "(2, 4, 5, 6, 2, 3, 4, 4, 7)\n",
            "3\n"
          ]
        }
      ]
    },
    {
      "cell_type": "code",
      "source": [
        "tuplex = (\"w\",3,'r',\"e\",\"s\",\"o\",\"u\",\"r\",\"c\",\"e\")\n",
        "print(\"r\" in tuplex)\n",
        "print(5 in tuplex)"
      ],
      "metadata": {
        "colab": {
          "base_uri": "https://localhost:8080/"
        },
        "id": "fyp3eDIApMOw",
        "outputId": "3cc01499-06c2-4514-d9b4-6f673bd34cf6"
      },
      "execution_count": null,
      "outputs": [
        {
          "output_type": "stream",
          "name": "stdout",
          "text": [
            "True\n",
            "False\n"
          ]
        }
      ]
    },
    {
      "cell_type": "code",
      "source": [
        "I = [(1,2),(3,4),(8,9)]\n",
        "print(list(zip(*I)))\n"
      ],
      "metadata": {
        "colab": {
          "base_uri": "https://localhost:8080/"
        },
        "id": "V5WRP3Enpg86",
        "outputId": "25fb6f47-5332-4e79-9a58-0dce0d628795"
      },
      "execution_count": null,
      "outputs": [
        {
          "output_type": "stream",
          "name": "stdout",
          "text": [
            "[(1, 3, 8), (2, 4, 9)]\n"
          ]
        }
      ]
    },
    {
      "cell_type": "code",
      "source": [
        "I = [(10,20,40),(40,50,60),(70,80,90)]\n",
        "print([t[:-1] + (100,)for t in I ])"
      ],
      "metadata": {
        "colab": {
          "base_uri": "https://localhost:8080/"
        },
        "id": "EG809Uygp18r",
        "outputId": "8ad1f65d-afd4-463f-afef-3e4243f44049"
      },
      "execution_count": null,
      "outputs": [
        {
          "output_type": "stream",
          "name": "stdout",
          "text": [
            "[(10, 20, 100), (40, 50, 100), (70, 80, 100)]\n"
          ]
        }
      ]
    },
    {
      "cell_type": "code",
      "source": [
        "L = [(),(),('a'),('a','b'),('a','b','c'),('d')]\n",
        "L = [t for t in L if t]\n",
        "print(L)"
      ],
      "metadata": {
        "colab": {
          "base_uri": "https://localhost:8080/"
        },
        "id": "M6jWmYH9qYiM",
        "outputId": "2edc8979-244c-4d4d-f83f-63f5f4a24419"
      },
      "execution_count": null,
      "outputs": [
        {
          "output_type": "stream",
          "name": "stdout",
          "text": [
            "['a', ('a', 'b'), ('a', 'b', 'c'), 'd']\n"
          ]
        }
      ]
    },
    {
      "cell_type": "code",
      "source": [
        "l = [(\"x\",1),(\"x\",2),(\"x\",3),(\"y\",1),(\"y\",2),(\"z\",1)]\n",
        "d = {}\n",
        "for a,b in l:\n",
        "  d.setdefault(a,[]).append(b)\n",
        "print(d)"
      ],
      "metadata": {
        "colab": {
          "base_uri": "https://localhost:8080/"
        },
        "id": "gmWX3I5crQrj",
        "outputId": "75602756-0349-4242-e25f-8f23f3518686"
      },
      "execution_count": null,
      "outputs": [
        {
          "output_type": "stream",
          "name": "stdout",
          "text": [
            "{'x': [1, 2, 3], 'y': [1, 2], 'z': [1]}\n"
          ]
        }
      ]
    },
    {
      "cell_type": "code",
      "source": [
        "from heapq import nlargest\n",
        "my_dict = {'a':500,'b':5874,'c':560,'d':400,'e':5874,'f':20}\n",
        "three_largest = nlargest(3,my_dict,key=my_dict.get)\n",
        "print(three_largest)"
      ],
      "metadata": {
        "colab": {
          "base_uri": "https://localhost:8080/"
        },
        "id": "Dt_Pg2_ir1h5",
        "outputId": "97cb4522-b87b-4902-e09e-5b6dabe4697b"
      },
      "execution_count": null,
      "outputs": [
        {
          "output_type": "stream",
          "name": "stdout",
          "text": [
            "['b', 'e', 'c']\n"
          ]
        }
      ]
    },
    {
      "cell_type": "code",
      "source": [
        "#Python function that prints out the first n rows of pascals triangle\n",
        "def pascal_triangle(n):\n",
        "   trow = [1]\n",
        "   y = [0]\n",
        "   for x in range(max(n,0)):\n",
        "      print(trow)\n",
        "      trow=[l+r for l,r in zip(trow+y, y+trow)]\n",
        "   return n>=1\n",
        "pascal_triangle(6) \n"
      ],
      "metadata": {
        "colab": {
          "base_uri": "https://localhost:8080/"
        },
        "id": "MjH6wnHDAKLU",
        "outputId": "1bf6f26a-8a5f-4801-c22c-6236dee359de"
      },
      "execution_count": 6,
      "outputs": [
        {
          "output_type": "stream",
          "name": "stdout",
          "text": [
            "[1]\n",
            "[1, 1]\n",
            "[1, 2, 1]\n",
            "[1, 3, 3, 1]\n",
            "[1, 4, 6, 4, 1]\n",
            "[1, 5, 10, 10, 5, 1]\n"
          ]
        },
        {
          "output_type": "execute_result",
          "data": {
            "text/plain": [
              "True"
            ]
          },
          "metadata": {},
          "execution_count": 6
        }
      ]
    },
    {
      "cell_type": "code",
      "source": [
        "#Python list with square of values from 1-30\n",
        "def printValues():\n",
        "       l = list()\n",
        "       for i in range(1,21):\n",
        "          l.append(i**2)\n",
        "       print(l)\n",
        "\n",
        "printValues()       \n"
      ],
      "metadata": {
        "colab": {
          "base_uri": "https://localhost:8080/"
        },
        "id": "C_nAdlx3AQUg",
        "outputId": "246a4f73-8417-4d47-c91b-b0146066f05c"
      },
      "execution_count": 8,
      "outputs": [
        {
          "output_type": "stream",
          "name": "stdout",
          "text": [
            "[1, 4, 9, 16, 25, 36, 49, 64, 81, 100, 121, 144, 169, 196, 225, 256, 289, 324, 361, 400]\n"
          ]
        }
      ]
    },
    {
      "cell_type": "code",
      "source": [
        "#Python program to detect the number of local variables in a function\n",
        "def abc():\n",
        "  x = 1\n",
        "  y = 2\n",
        "  str1 = \"w3resource\"\n",
        "  print(\"Python Excercises\")\n",
        "\n",
        "\n",
        "print(abc.__code__.co_nlocals)"
      ],
      "metadata": {
        "colab": {
          "base_uri": "https://localhost:8080/"
        },
        "id": "F7tg_TZoAtAM",
        "outputId": "ba2af26a-6489-4b62-a2e3-7e85f71dad65"
      },
      "execution_count": 9,
      "outputs": [
        {
          "output_type": "stream",
          "name": "stdout",
          "text": [
            "3\n"
          ]
        }
      ]
    },
    {
      "cell_type": "code",
      "source": [
        "#Python program that invoke a function after specific milliseconds\n",
        "from time import sleep \n",
        "import math\n",
        "def delay(fn, ms, *args):\n",
        "  sleep(ms/1000)\n",
        "  return fn(*args)\n",
        "print(\"Square root after specifuc milliseconds: \")\n",
        "print(delay(lambda x: math.sqrt(x), 100,16))\n",
        "print(delay(lambda x: math.sqrt(x), 1000,100))\n",
        "print(delay(lambda x: math.sqrt(x), 2000,25100))"
      ],
      "metadata": {
        "colab": {
          "base_uri": "https://localhost:8080/"
        },
        "id": "dLQX8HKvBFOm",
        "outputId": "6d093539-f911-4407-b2d5-71255412e4c1"
      },
      "execution_count": 10,
      "outputs": [
        {
          "output_type": "stream",
          "name": "stdout",
          "text": [
            "Square root after specifuc milliseconds: \n",
            "4.0\n",
            "10.0\n",
            "158.42979517754858\n"
          ]
        }
      ]
    },
    {
      "cell_type": "code",
      "source": [
        "#Python program to get the sum of non-negative integer\n",
        "def sumDigits(n):\n",
        "  if n ==0:\n",
        "    return 0\n",
        "  else:\n",
        "    return n%10 + sumDigits(int(n/10))\n",
        "\n",
        "print(sumDigits(345))\n",
        "print(sumDigits(45))\n"
      ],
      "metadata": {
        "colab": {
          "base_uri": "https://localhost:8080/"
        },
        "id": "-vSjwrBNBqVq",
        "outputId": "fe211935-436e-45e8-bfcc-6fc8c6c7b789"
      },
      "execution_count": 11,
      "outputs": [
        {
          "output_type": "stream",
          "name": "stdout",
          "text": [
            "12\n",
            "9\n"
          ]
        }
      ]
    }
  ]
}