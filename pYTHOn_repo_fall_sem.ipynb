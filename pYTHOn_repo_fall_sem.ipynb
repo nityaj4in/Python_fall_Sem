{
  "nbformat": 4,
  "nbformat_minor": 0,
  "metadata": {
    "colab": {
      "provenance": [],
      "authorship_tag": "ABX9TyMipzR98AB5dShrsANEV6Et",
      "include_colab_link": true
    },
    "kernelspec": {
      "name": "python3",
      "display_name": "Python 3"
    },
    "language_info": {
      "name": "python"
    }
  },
  "cells": [
    {
      "cell_type": "markdown",
      "metadata": {
        "id": "view-in-github",
        "colab_type": "text"
      },
      "source": [
        "<a href=\"https://colab.research.google.com/github/nityaj4in/Python_fall_Sem/blob/main/pYTHOn_repo_fall_sem.ipynb\" target=\"_parent\"><img src=\"https://colab.research.google.com/assets/colab-badge.svg\" alt=\"Open In Colab\"/></a>"
      ]
    },
    {
      "cell_type": "code",
      "execution_count": null,
      "metadata": {
        "id": "dPaBKdnl0Z3H"
      },
      "outputs": [],
      "source": [
        "print(\"hello world\")"
      ]
    }
  ]
}